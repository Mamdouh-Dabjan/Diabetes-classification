{
 "cells": [
  {
   "cell_type": "code",
   "execution_count": 1,
   "id": "95f8b85d-c689-4192-8028-9414ad58b18a",
   "metadata": {},
   "outputs": [],
   "source": [
    "import pandas as pd\n",
    "import numpy as np\n",
    "from sklearn.metrics import classification_report, accuracy_score, confusion_matrix\n",
    "from sklearn.model_selection import train_test_split\n",
    "from sklearn.preprocessing import MinMaxScaler\n",
    "from sklearn.ensemble import RandomForestClassifier\n",
    "import xgboost as xgb\n",
    "from sklearn.model_selection import RandomizedSearchCV\n",
    "from scipy.stats import randint, uniform\n",
    "\n",
    "df = pd.read_csv('diabetes_old.csv')\n",
    "df = df[df['age']>=18]\n",
    "df = df[df['bmi']<=40]\n",
    "#Preprocess the data\n",
    "numeric_col=[]\n",
    "non_numeric_col=[]\n",
    "for column in df.columns:\n",
    "    if pd.api.types.is_numeric_dtype(df[column]):\n",
    "        if(df[column].nunique()<5):\n",
    "            non_numeric_col.append(column)\n",
    "        else:\n",
    "            numeric_col.append(column)\n",
    "    else:\n",
    "        non_numeric_col.append(column)\n",
    "from sklearn.preprocessing import LabelEncoder\n",
    "le=LabelEncoder()\n",
    "df['smoking_history'] = df['smoking_history'].replace({'not current':'former','ever':'never'})\n",
    "df_copy = df.copy()\n",
    "for col in non_numeric_col:\n",
    "    df[col]=le.fit_transform(df[col])\n",
    "\n"
   ]
  },
  {
   "cell_type": "code",
   "execution_count": 2,
   "id": "49e8f122-a2fa-4b76-b816-2b4aa0f349fa",
   "metadata": {},
   "outputs": [],
   "source": [
    "y = df['diabetes']\n",
    "X = df.drop('diabetes', axis = 1)"
   ]
  },
  {
   "cell_type": "code",
   "execution_count": 3,
   "id": "d4fbadef-f466-4a9a-ade5-eb7338b85cf1",
   "metadata": {},
   "outputs": [],
   "source": [
    "scale_pos_weight = y.value_counts()[0] /  y.value_counts()[1]"
   ]
  },
  {
   "cell_type": "code",
   "execution_count": 4,
   "id": "1e4a2539-99c8-45e9-8a99-e62fabbe20bc",
   "metadata": {},
   "outputs": [],
   "source": [
    "#Normalize the data\n",
    "scaler = MinMaxScaler()\n",
    "X_train, X_test, y_train, y_test = train_test_split(X, y, test_size = 0.3, stratify = y)\n",
    "X_test, X_val, y_test, y_val = train_test_split(X_test, y_test, test_size = 0.5, stratify = y_test)\n",
    "X_train_scaled = scaler.fit_transform(X_train)\n",
    "X_test_scaled = scaler.transform(X_test)\n",
    "X_val_scaled = scaler.transform(X_val)"
   ]
  },
  {
   "cell_type": "code",
   "execution_count": null,
   "id": "35888ddd-6e67-456f-a34f-e772491871a7",
   "metadata": {},
   "outputs": [],
   "source": [
    "import optuna\n",
    "import xgboost as xgb\n",
    "from sklearn.metrics import roc_auc_score\n",
    "from sklearn.model_selection import train_test_split\n",
    "import numpy as np\n",
    "from sklearn.metrics import precision_recall_curve, fbeta_score\n",
    "\n",
    "\n",
    "# Assuming X_train_scaled, X_test_scaled, y_train, and y_test are defined\n",
    "optuna.logging.set_verbosity(optuna.logging.WARNING)\n",
    "def objective(trial):\n",
    "    dtrain = xgb.DMatrix(X_train_scaled, label=y_train)\n",
    "    dval = xgb.DMatrix(X_val_scaled, label=y_val)\n",
    "\n",
    "    param = {\n",
    "        'booster': 'dart',\n",
    "        'tree_method': 'gpu_hist',\n",
    "        'scale_pos_weight': scale_pos_weight,  #\n",
    "        'max_depth': trial.suggest_int('max_depth', 3, 20),\n",
    "        'gamma': trial.suggest_float('gamma', 0, 1),\n",
    "        'learning_rate': trial.suggest_float('learning_rate', 0.01, 1),\n",
    "        'subsample': trial.suggest_float('subsample', 0.5, 0.8),\n",
    "        'eval_metric': 'auc'  \n",
    "    }\n",
    "   \n",
    "    num_boost_round = 100\n",
    "    model = xgb.train(param, dtrain, num_boost_round=num_boost_round)\n",
    "    preds = model.predict(dval)\n",
    "    precision, recall, thresholds = precision_recall_curve(y_val, preds)\n",
    "    beta = 1.8\n",
    "    # Calculate F2 scores\n",
    "    with np.errstate(divide='ignore', invalid='ignore'):\n",
    "        f2_scores = (1 + beta**2) * (precision * recall) / ((beta**2 * precision) + recall)\n",
    "\n",
    "    f2_scores = np.nan_to_num(f2_scores)\n",
    "\n",
    "    max_f2_score = np.max(f2_scores)\n",
    "\n",
    "    return max_f2_score\n",
    "\n",
    "\n",
    "study = optuna.create_study(direction='maximize')\n",
    "study.optimize(objective, n_trials=20)\n",
    "\n",
    "print('Number of finished trials:', len(study.trials))\n",
    "print('Best trial:', study.best_trial.params)\n",
    "# To use the best parameters:\n",
    "best_params = study.best_trial.params\n",
    "\n",
    "max_depth = best_params['max_depth']\n",
    "gamma = best_params['gamma']\n",
    "learning_rate = best_params['learning_rate']\n",
    "subsample = best_params['subsample']\n",
    "\n"
   ]
  },
  {
   "cell_type": "code",
   "execution_count": null,
   "id": "f0e6cbdd-2aeb-46c5-8234-9749f02b842e",
   "metadata": {},
   "outputs": [],
   "source": [
    "import xgboost as xgb\n",
    "from sklearn.metrics import roc_auc_score\n",
    "from sklearn.model_selection import StratifiedKFold\n",
    "params = {\n",
    "    'tree_method': 'gpu_hist',\n",
    "    'booster':'dart',\n",
    "    'eval_metric':'auc',\n",
    "    'scale_pos_weight':scale_pos_weight,\n",
    "    'max_depth': max_depth, 'gamma': gamma, 'learning_rate': learning_rate, 'subsample': subsample\n",
    "}\n",
    "dtrain = xgb.DMatrix(X_train_scaled, label = y_train)\n",
    "dtest = xgb.DMatrix(X_test_scaled, label = y_test)\n",
    "dval = xgb.DMatrix(X_val_scaled, label=y_val)\n",
    "model = xgb.train(params, dtrain, num_boost_round = 100)\n",
    "y_pred_val_original = model.predict(dval)"
   ]
  },
  {
   "cell_type": "code",
   "execution_count": null,
   "id": "6d1acf86-aa52-4bc4-a7d1-ff73b153ec6b",
   "metadata": {},
   "outputs": [],
   "source": [
    "from sklearn.metrics import precision_recall_curve, fbeta_score\n",
    "import numpy as np\n",
    "\n",
    "precision, recall, thresholds = precision_recall_curve(y_val, y_pred_val_original)\n",
    "beta = 1.8\n",
    "\n",
    "# Calculate F-beta scores for each threshold\n",
    "f_beta_scores = [(1 + beta**2) * (prec * rec) / ((beta**2 * prec) + rec) for prec, rec in zip(precision, recall)]\n",
    "\n",
    "# Find the index of the maximum F-beta score\n",
    "opt_idx = np.argmax(f_beta_scores)\n",
    "opt_threshold = thresholds[opt_idx] if opt_idx < len(thresholds) else 1.0\n",
    "opt_f_beta_score = f_beta_scores[opt_idx]\n",
    "\n",
    "print(f\"Optimal threshold: {opt_threshold}, F{beta} Score: {opt_f_beta_score}\")\n",
    "\n",
    "# Use the optimal threshold to convert probabilities to binary predictions\n",
    "y_pred_optimal = (y_pred_val_original >= opt_threshold).astype(int)\n",
    "\n",
    "# Calculate the final F-beta score using the optimal threshold\n",
    "final_f_beta_score = fbeta_score(y_val, y_pred_optimal, beta=beta)\n",
    "print(f\"Final F{beta} Score with Optimal Threshold: {final_f_beta_score}\")\n"
   ]
  },
  {
   "cell_type": "code",
   "execution_count": null,
   "id": "cdb3ba97-dc10-4ae1-9382-e5eeeb078d90",
   "metadata": {},
   "outputs": [],
   "source": [
    "y_pred_val = (y_pred_val_original > opt_threshold).astype(int)\n",
    "print(classification_report(y_val, y_pred_val))\n",
    "print(f' AUC score is : {roc_auc_score(y_val, y_pred_val)}')"
   ]
  },
  {
   "cell_type": "code",
   "execution_count": null,
   "id": "b3e4779e-01b8-4c14-b71b-4f1a75062045",
   "metadata": {},
   "outputs": [],
   "source": [
    "y_pred_test = model.predict(dtest)\n",
    "y_pred_test = (y_pred_test > opt_threshold).astype(int)\n",
    "print(classification_report(y_test, y_pred_test))\n",
    "print(f' AUC score is : {roc_auc_score(y_test, y_pred_test)}')"
   ]
  }
 ],
 "metadata": {
  "kernelspec": {
   "display_name": "Python 3 (ipykernel)",
   "language": "python",
   "name": "python3"
  },
  "language_info": {
   "codemirror_mode": {
    "name": "ipython",
    "version": 3
   },
   "file_extension": ".py",
   "mimetype": "text/x-python",
   "name": "python",
   "nbconvert_exporter": "python",
   "pygments_lexer": "ipython3",
   "version": "3.10.13"
  }
 },
 "nbformat": 4,
 "nbformat_minor": 5
}
